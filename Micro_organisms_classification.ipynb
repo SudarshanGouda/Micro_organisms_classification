{
 "cells": [
  {
   "cell_type": "markdown",
   "id": "071dc8ed",
   "metadata": {},
   "source": [
    "# Micro_organisms_classification"
   ]
  },
  {
   "cell_type": "code",
   "execution_count": 121,
   "id": "acdb4373",
   "metadata": {},
   "outputs": [],
   "source": [
    "import numpy as np\n",
    "import pandas as pd\n",
    "import matplotlib.pyplot as plt\n",
    "import seaborn as sns\n",
    "import splitfolders"
   ]
  },
  {
   "cell_type": "markdown",
   "id": "4098d5e8",
   "metadata": {},
   "source": [
    "## Data Preparation"
   ]
  },
  {
   "cell_type": "code",
   "execution_count": 122,
   "id": "e8e33061",
   "metadata": {},
   "outputs": [],
   "source": [
    "input_dir='E:\\\\DATA Science\\\\DEEP LEARNING\\\\CNN\\\\Micro_organisms_classification\\\\Dataset\\\\Micro_Organism'\n",
    "output_dir='E:\\\\DATA Science\\\\DEEP LEARNING\\\\CNN\\\\Micro_organisms_classification\\\\Dataset_split'"
   ]
  },
  {
   "cell_type": "code",
   "execution_count": 123,
   "id": "4e917203",
   "metadata": {},
   "outputs": [],
   "source": [
    "#splitfolders.ratio(input=input_dir,output=output_dir,ratio=(0.7,0.2,0.1))"
   ]
  },
  {
   "cell_type": "code",
   "execution_count": 124,
   "id": "20c12f19",
   "metadata": {},
   "outputs": [],
   "source": [
    "from tensorflow.keras.preprocessing.image import ImageDataGenerator"
   ]
  },
  {
   "cell_type": "code",
   "execution_count": 125,
   "id": "a74113ba",
   "metadata": {},
   "outputs": [],
   "source": [
    "train_gen=ImageDataGenerator(rescale=1/255,rotation_range=20,horizontal_flip=True,\n",
    "                             width_shift_range=0.2,height_shift_range=0.2)\n",
    "test_gen=ImageDataGenerator(rescale=1/255)"
   ]
  },
  {
   "cell_type": "code",
   "execution_count": 126,
   "id": "3d87e2d0",
   "metadata": {},
   "outputs": [],
   "source": [
    "train_dir='E:\\\\DATA Science\\\\DEEP LEARNING\\\\CNN\\\\Micro_organisms_classification\\\\Dataset_split\\\\train'\n",
    "test_dir='E:\\\\DATA Science\\\\DEEP LEARNING\\\\CNN\\\\Micro_organisms_classification\\\\Dataset_split\\\\test'\n",
    "val_dir='E:\\\\DATA Science\\\\DEEP LEARNING\\\\CNN\\\\Micro_organisms_classification\\\\Dataset_split\\\\val'"
   ]
  },
  {
   "cell_type": "code",
   "execution_count": 127,
   "id": "ce3adb16",
   "metadata": {},
   "outputs": [
    {
     "name": "stdout",
     "output_type": "stream",
     "text": [
      "Found 549 images belonging to 8 classes.\n",
      "Found 156 images belonging to 8 classes.\n",
      "Found 84 images belonging to 8 classes.\n"
     ]
    }
   ],
   "source": [
    "train_itt=train_gen.flow_from_directory(train_dir,target_size=(256, 256))\n",
    "val_itt=test_gen.flow_from_directory(val_dir,target_size=(256, 256))\n",
    "test_itt=test_gen.flow_from_directory(test_dir,target_size=(256, 256))"
   ]
  },
  {
   "cell_type": "markdown",
   "id": "7559491a",
   "metadata": {},
   "source": [
    "## CNN Model"
   ]
  },
  {
   "cell_type": "code",
   "execution_count": 128,
   "id": "2c8d5f44",
   "metadata": {},
   "outputs": [],
   "source": [
    "from tensorflow.keras import Sequential\n",
    "from tensorflow.keras.layers import Conv2D,MaxPooling2D,Dense,Dropout,Flatten"
   ]
  },
  {
   "cell_type": "code",
   "execution_count": 129,
   "id": "a8926443",
   "metadata": {},
   "outputs": [],
   "source": [
    "model=Sequential()\n",
    "\n",
    "model.add(Conv2D(32,(3,3),activation='relu',input_shape=(256,256,3)))\n",
    "model.add(MaxPooling2D((2,2)))\n",
    "\n",
    "model.add(Conv2D(64,(3,3),activation='relu'))\n",
    "model.add(MaxPooling2D((2,2)))\n",
    "\n",
    "model.add(Conv2D(128,(3,3),activation='relu'))\n",
    "model.add(MaxPooling2D((2,2)))\n",
    "\n",
    "model.add(Flatten())\n",
    "\n",
    "model.add(Dense(512,activation='relu'))\n",
    "\n",
    "model.add(Dense(8,activation='softmax'))"
   ]
  },
  {
   "cell_type": "code",
   "execution_count": 130,
   "id": "270ca13b",
   "metadata": {},
   "outputs": [],
   "source": [
    "model.compile(loss='categorical_crossentropy',optimizer='adam',metrics=['accuracy'])"
   ]
  },
  {
   "cell_type": "code",
   "execution_count": null,
   "id": "382b336b",
   "metadata": {},
   "outputs": [
    {
     "name": "stdout",
     "output_type": "stream",
     "text": [
      "Epoch 1/8\n",
      " 1/18 [>.............................] - ETA: 2:10 - loss: 2.0684 - accuracy: 0.2500"
     ]
    }
   ],
   "source": [
    "model.fit(train_itt,validation_data=val_itt,epochs=8)"
   ]
  },
  {
   "cell_type": "code",
   "execution_count": null,
   "id": "3d0d298b",
   "metadata": {},
   "outputs": [],
   "source": [
    "from sklearn.metrics import classification_report,confusion_matrix,roc_auc_score,accuracy_score"
   ]
  },
  {
   "cell_type": "code",
   "execution_count": null,
   "id": "a16b250f",
   "metadata": {},
   "outputs": [],
   "source": [
    "predictions = model.evaluate(test_itt)"
   ]
  },
  {
   "cell_type": "code",
   "execution_count": null,
   "id": "5dc53ad0",
   "metadata": {},
   "outputs": [],
   "source": [
    "losses = pd.DataFrame(model.history.history)"
   ]
  },
  {
   "cell_type": "markdown",
   "id": "e79a7e64",
   "metadata": {},
   "source": [
    "## Dropouts"
   ]
  },
  {
   "cell_type": "code",
   "execution_count": null,
   "id": "aa58635f",
   "metadata": {},
   "outputs": [],
   "source": [
    "model=Sequential()\n",
    "\n",
    "model.add(Conv2D(32,(3,3),activation='relu',input_shape=(256,256,3)))\n",
    "model.add(MaxPooling2D((2,2)))\n",
    "model.add(Dropout(0.2))\n",
    "\n",
    "model.add(Conv2D(64,(3,3),activation='relu'))\n",
    "model.add(MaxPooling2D((2,2)))\n",
    "model.add(Dropout(0.2))\n",
    "\n",
    "model.add(Conv2D(128,(3,3),activation='relu'))\n",
    "model.add(MaxPooling2D((2,2)))\n",
    "model.add(Dropout(0.2))\n",
    "\n",
    "model.add(Flatten())\n",
    "\n",
    "model.add(Dense(512,activation='relu'))\n",
    "model.add(Dropout(0.3))\n",
    "\n",
    "model.add(Dense(8,activation='softmax'))"
   ]
  },
  {
   "cell_type": "code",
   "execution_count": null,
   "id": "207e824b",
   "metadata": {},
   "outputs": [],
   "source": [
    "model.compile(loss='categorical_crossentropy',optimizer='adam',metrics=['accuracy'])"
   ]
  },
  {
   "cell_type": "code",
   "execution_count": null,
   "id": "a39ee00c",
   "metadata": {},
   "outputs": [],
   "source": [
    "model.fit(train_itt,validation_data=val_itt,epochs=8)"
   ]
  },
  {
   "cell_type": "code",
   "execution_count": null,
   "id": "57daefd9",
   "metadata": {},
   "outputs": [],
   "source": [
    "predictions = model.evaluate(test_itt)"
   ]
  },
  {
   "cell_type": "markdown",
   "id": "bb064e80",
   "metadata": {},
   "source": [
    "## Padding"
   ]
  },
  {
   "cell_type": "code",
   "execution_count": null,
   "id": "d7c09182",
   "metadata": {},
   "outputs": [],
   "source": [
    "model=Sequential()\n",
    "model.add(Conv2D(32,(3,3),activation='relu',input_shape=(256,256,3),padding='same'))\n",
    "model.add(MaxPooling2D((2,2)))\n",
    "\n",
    "model.add(Conv2D(64,(3,3),activation='relu',padding='same'))\n",
    "model.add(MaxPooling2D((2,2)))\n",
    "\n",
    "model.add(Conv2D(128,(3,3),activation='relu',padding='same'))\n",
    "model.add(MaxPooling2D((2,2)))\n",
    "\n",
    "model.add(Flatten())\n",
    "\n",
    "model.add(Dense(512,activation='relu'))\n",
    "\n",
    "model.add(Dense(8,activation='softmax'))"
   ]
  },
  {
   "cell_type": "code",
   "execution_count": null,
   "id": "23867e73",
   "metadata": {},
   "outputs": [],
   "source": [
    "model.compile(loss='categorical_crossentropy',optimizer='adam',metrics=['accuracy'])"
   ]
  },
  {
   "cell_type": "code",
   "execution_count": null,
   "id": "995661e7",
   "metadata": {},
   "outputs": [],
   "source": [
    "model.fit(train_itt,validation_data=val_itt,epochs=8)"
   ]
  },
  {
   "cell_type": "code",
   "execution_count": null,
   "id": "cd6dce76",
   "metadata": {},
   "outputs": [],
   "source": [
    "predictions = model.evaluate(test_itt)"
   ]
  },
  {
   "cell_type": "markdown",
   "id": "0f659849",
   "metadata": {},
   "source": [
    "## Tunning"
   ]
  },
  {
   "cell_type": "code",
   "execution_count": null,
   "id": "533b9050",
   "metadata": {},
   "outputs": [],
   "source": [
    "import keras_tuner"
   ]
  },
  {
   "cell_type": "code",
   "execution_count": null,
   "id": "4643b863",
   "metadata": {},
   "outputs": [],
   "source": [
    "def build_model(hp):\n",
    "    model =Sequential()\n",
    "    model.add(Conv2D(32,(3,3),activation='relu',input_shape=(256,256,3)))\n",
    "    model.add(MaxPooling2D((2,2)))\n",
    "\n",
    "    model.add(Conv2D(64,(3,3),activation='relu'))\n",
    "    model.add(MaxPooling2D((2,2)))\n",
    "\n",
    "    model.add(Conv2D(128,(3,3),activation='relu'))\n",
    "    model.add(MaxPooling2D((2,2)))\n",
    "\n",
    "    model.add(Flatten())\n",
    "\n",
    "    model.add(Dense(units=hp.Choice('layes size',[64,128,256,512]),activation='relu'))\n",
    "\n",
    "    model.add(Dense(8,activation='softmax')) \n",
    "    \n",
    "    model.compile(loss='categorical_crossentropy',optimizer='adam',metrics=['accuracy'])\n",
    "    \n",
    "    return model"
   ]
  },
  {
   "cell_type": "code",
   "execution_count": null,
   "id": "fd81f18c",
   "metadata": {},
   "outputs": [],
   "source": [
    "tuner = keras_tuner.RandomSearch(hypermodel=build_model,\n",
    "    objective=\"val_accuracy\",\n",
    "    max_trials=4,\n",
    "    overwrite=True)"
   ]
  },
  {
   "cell_type": "code",
   "execution_count": null,
   "id": "9e45e62e",
   "metadata": {},
   "outputs": [],
   "source": [
    "tuner.search_space_summary()\n",
    "tuner.search(train_itt,validation_data=test_itt,epochs=2)"
   ]
  },
  {
   "cell_type": "code",
   "execution_count": null,
   "id": "0c2918c7",
   "metadata": {},
   "outputs": [],
   "source": [
    "best_model=tuner.get_best_models()[0]"
   ]
  },
  {
   "cell_type": "code",
   "execution_count": null,
   "id": "695c46e1",
   "metadata": {},
   "outputs": [],
   "source": [
    "best_model.evaluate(test_itt)"
   ]
  },
  {
   "cell_type": "code",
   "execution_count": null,
   "id": "3b95f1ff",
   "metadata": {},
   "outputs": [],
   "source": [
    "class_label= test_itt.class_indices"
   ]
  }
 ],
 "metadata": {
  "kernelspec": {
   "display_name": "Python 3 (ipykernel)",
   "language": "python",
   "name": "python3"
  },
  "language_info": {
   "codemirror_mode": {
    "name": "ipython",
    "version": 3
   },
   "file_extension": ".py",
   "mimetype": "text/x-python",
   "name": "python",
   "nbconvert_exporter": "python",
   "pygments_lexer": "ipython3",
   "version": "3.9.12"
  }
 },
 "nbformat": 4,
 "nbformat_minor": 5
}
